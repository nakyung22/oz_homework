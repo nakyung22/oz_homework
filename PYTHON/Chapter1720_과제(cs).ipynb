{
 "cells": [
  {
   "cell_type": "markdown",
   "metadata": {
    "id": "WXEwMsfUct7U"
   },
   "source": [
    "컴퓨터 기초 지식을 의미하는 CS(Computer science)는<br>\n",
    "코딩 테스트와 함께 기술 면접에서 지원자에게 필수적으로 요구합니다.<br>\n",
    "\n",
    "수업 내용 중 기술 면접에 자주 나오는 질문 3가지와 기본적으로 알아야 할 내용 과제로 선정했습니다.<br>\n",
    "\n",
    "관련 내용에 대해서는 구글링 또는 관련 서적을 통해 상세히 공부하시고<br>\n",
    "답변은 최대한 핵심만 담아 간결하게 작성해주세요<br>\n",
    "\n",
    "기술 블로그를 운영 중이신 경우<br>\n",
    "답변 내용을 기술 블로그에 작성하신 후 링크를 답변에 남겨주셔도 됩니다.<br>"
   ]
  },
  {
   "cell_type": "markdown",
   "metadata": {
    "id": "qoyC9wF-3hvs"
   },
   "source": [
    "-----"
   ]
  },
  {
   "cell_type": "markdown",
   "metadata": {
    "id": "rAD_O3Gmc_43"
   },
   "source": [
    "[문제1]\n",
    "\n",
    "객체지향에 대해서 설명해주세요"
   ]
  },
  {
   "cell_type": "markdown",
   "metadata": {},
   "source": [
    "프로그램을 구성하는 방법론 중 하나로 데이터를 중심으로 프로그램을 설계하고 작성하는 방식입니다. 현실 세계의 사물을 모델링하여 프로그램 안에서 구현하며, 각 객체는 사앹와 동작을 가집니다."
   ]
  },
  {
   "cell_type": "markdown",
   "metadata": {},
   "source": [
    "---"
   ]
  },
  {
   "cell_type": "markdown",
   "metadata": {
    "id": "3uK_auXYdgk2"
   },
   "source": [
    "[문제2]\n",
    "\n",
    "init 메소드에 대해 설명해주세요"
   ]
  },
  {
   "cell_type": "markdown",
   "metadata": {},
   "source": [
    "Python 클래스에서 객체가 생성될 때까지 자동으로 호출하는 생성자 메서드입니다. 객체를 초기화하고 필요한 속성을 설정하거나 초기값을 할당하는데 사용됩니다.\n",
    "주요 특징은 객체 생성 시 자동 호출되고, 인스턴트가 초기화됩니다. 첫 번째 매개변수self는 생성된 객체 자신을 참조합니다."
   ]
  },
  {
   "cell_type": "markdown",
   "metadata": {},
   "source": [
    "[문제3]\n",
    "\n",
    "클래스 상속에 대해 설명해주세요"
   ]
  },
  {
   "cell_type": "markdown",
   "metadata": {},
   "source": [
    "상속은 객체지향  프로그래밍의 핵심 개념 중 하나로 기존 클래스의 속성과 메서드를 새로운 클래스가 물려받아 사용하는 것을 말합니다. 이를 통해 코드 재사용성과 확장성을 높일 수 있습니다."
   ]
  },
  {
   "cell_type": "markdown",
   "metadata": {},
   "source": [
    "특징\n",
    "1. 부모 클래스의 기능을 물려받습니다.\n",
    "2. 계층 구조를 생성합니다.\n",
    "3. 다음 상속을 지원합니다."
   ]
  },
  {
   "cell_type": "markdown",
   "metadata": {},
   "source": [
    "[문제4]\n",
    "\n",
    "클래스 다중 상속과 관련된 MRO에 대해 설명해주세요"
   ]
  },
  {
   "cell_type": "markdown",
   "metadata": {},
   "source": [
    "Python에서 메서드를 호출할 때 클래스 상속 체계를 따라 메서드를 검색하는 순서를 말합니다.\n",
    "단일 상속에서는 부모 클래스를 따라 순서대로 탐색하며, 다중 상속에서는 C3 선형화 알고리즘을 사용합니다. MRO를 확인하려면 __mro__, mro(), 또는 help()를 사용할 수 있습니다. 이해하기 쉬운 MRO를 유지하기 위해선느 상속 구조를 간단하게 설계하는 것이 좋습니다."
   ]
  },
  {
   "cell_type": "markdown",
   "metadata": {},
   "source": []
  },
  {
   "cell_type": "markdown",
   "metadata": {},
   "source": [
    "[문제5]\n",
    "\n",
    "Self는 어떤 키워드 인가요?"
   ]
  },
  {
   "cell_type": "markdown",
   "metadata": {},
   "source": [
    "현재 인스턴스를 가리키는 참조입니다. 객체마다 고유의 속성과 동작을 유지하기 위해 필수적입니다. Python의 클래스 메서드에서 반드시 첫 번째 매개변수로 선언해야 합니다."
   ]
  },
  {
   "cell_type": "markdown",
   "metadata": {},
   "source": [
    "[문제6]\n",
    "\n",
    "ZeroDivisionError,  IndexError 외에 3가지 이상의 파이썬 에러에 대해 설명해주세요"
   ]
  },
  {
   "cell_type": "markdown",
   "metadata": {},
   "source": [
    "1. keyError: 딕셔너리에서 문제되지 않는 키를 참조할 때 발생합니다.\n",
    "2. TypeError: 데이터 타입에 맞지 않는 연산이나 함수 호출 시 사용합니다.\n",
    "3. ValueError: 데이터 타입은 맞지만, 값이 적절하지 않을 때 발생합니다.\n",
    "4. AttrubuteError: 존재하지 않는 속성이나 메서들를 호출하려 할 때 발생합니다.\n",
    "5. ImporError: 존재하지 않는 모듈을 가져오거나, 모듈 안의 잘못된 객체를 가져오려 할 때 발생합니다."
   ]
  }
 ],
 "metadata": {
  "colab": {
   "authorship_tag": "ABX9TyP7YKA5FdtGggYfD74V7SMJ",
   "provenance": []
  },
  "kernelspec": {
   "display_name": "Python 3",
   "name": "python3"
  },
  "language_info": {
   "name": "python"
  }
 },
 "nbformat": 4,
 "nbformat_minor": 0
}
