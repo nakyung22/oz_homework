{
 "cells": [
  {
   "cell_type": "markdown",
   "metadata": {},
   "source": [
    "<span style=\"font-size:100%\">\n",
    "\n",
    "수업은 모두 열심히 들으셨나요?\n",
    "\n",
    "간혹 강의에서 언급되지 않은 내용이 문제로 나올 수 있습니다.<br>\n",
    "그럴땐 강의 내용 외 문제는 구글링을 통해 해결해주세요<br></span>\n",
    "<span style=\"font-size:80%\">\n",
    "(구글링 또한 개발자가 갖쳐야할 역량 중에 하나랍니다 😊)\n",
    "</span>\n",
    "\n",
    "---"
   ]
  },
  {
   "cell_type": "markdown",
   "metadata": {},
   "source": [
    "<span style=\"font-size:80%\">[문제1]<br><br></span>\n",
    "```인터프리트 방식에 대해 설명하고 2개 이상의 장점을 설명해주세요```"
   ]
  },
  {
   "cell_type": "markdown",
   "metadata": {},
   "source": [
    "<span style=\"color:red\">답변</span>"
   ]
  },
  {
   "cell_type": "markdown",
   "metadata": {},
   "source": [
    "프로그래밍 언어의 코드를 한 줄씩 읽어 실행하는 방식입니다\n",
    "장점은 1. 개발 속도가 빠르다. 2. 동일한 소스 코드를 별도의 수정 없이 실행할 수 있습니다."
   ]
  },
  {
   "cell_type": "markdown",
   "metadata": {},
   "source": [
    "---"
   ]
  },
  {
   "cell_type": "markdown",
   "metadata": {},
   "source": [
    "<span style=\"font-size:80%\">[문제2]<br><br></span>\n",
    "```동적 타입 방식의 장점과 단점을 간략히 설명해주세요```"
   ]
  },
  {
   "cell_type": "markdown",
   "metadata": {},
   "source": [
    "<span style=\"color:red\">답변</span>"
   ]
  },
  {
   "cell_type": "code",
   "execution_count": null,
   "metadata": {},
   "outputs": [],
   "source": [
    "개발 속도가 증가하지만 런타임 오류 가능성이 증가합니다."
   ]
  },
  {
   "cell_type": "markdown",
   "metadata": {},
   "source": []
  },
  {
   "cell_type": "markdown",
   "metadata": {},
   "source": [
    "---"
   ]
  },
  {
   "cell_type": "markdown",
   "metadata": {},
   "source": [
    "<span style=\"font-size:80%\">[문제3]<br><br></span>\n",
    "```Python으로 정적타입 방식의 코드를 작성할 수 있는 방법을 구글링을 통해 검색 후 설명해주세요```"
   ]
  },
  {
   "cell_type": "markdown",
   "metadata": {},
   "source": [
    "<span style=\"color:red\">답변</span>"
   ]
  },
  {
   "cell_type": "markdown",
   "metadata": {},
   "source": [
    "Python 3.5 이상부터는 타입 힌트를 사용하여 변수, 함수의 인자, 반환 값 등에 타입을 명시할 수 있습니다."
   ]
  },
  {
   "cell_type": "markdown",
   "metadata": {},
   "source": [
    "---"
   ]
  },
  {
   "cell_type": "markdown",
   "metadata": {},
   "source": [
    "<span style=\"font-size:80%\">[문제4]<br><br></span>\n",
    "```프로세스와 스레드의 차이점을 설명해주세요```"
   ]
  },
  {
   "cell_type": "markdown",
   "metadata": {},
   "source": [
    "<span style=\"color:red\">답변</span>"
   ]
  },
  {
   "cell_type": "markdown",
   "metadata": {},
   "source": [
    "1. 정의\n",
    "\t•\t프로세스: 운영체제에서 실행 중인 하나의 프로그램 단위. 각 프로세스는 독립된 메모리 공간을 가지고 실행됩니다.\n",
    "\t•\t스레드: 프로세스 내에서 실행되는 가장 작은 실행 단위. 스레드는 같은 프로세스 내의 다른 스레드와 메모리 공간을 공유합니다.\n",
    "2. 메모리 구조\n",
    "\t•\t프로세스\n",
    "\t•\t독립된 메모리 공간(코드, 데이터, 힙, 스택 영역)을 가짐.\n",
    "\t•\t프로세스 간 메모리 공유가 어렵고, 주로 IPC(Inter-Process Communication, 프로세스 간 통신)를 통해 데이터를 주고받음.\n",
    "\t•\t스레드\n",
    "\t•\t같은 프로세스 내의 메모리(코드, 데이터, 힙 영역)를 공유.\n",
    "\t•\t각 스레드는 고유한 스택과 레지스터를 가짐.\n",
    "3. 생성 속도\n",
    "\t•\t프로세스\n",
    "\t•\t생성 및 종료에 시간이 오래 걸림. 운영체제가 독립된 메모리 공간을 설정하고 관리해야 하기 때문.\n",
    "\t•\t스레드\n",
    "\t•\t생성 및 종료가 더 빠름. 같은 메모리 공간을 공유하므로 추가적인 설정이 적음.  \n",
    "4. 실행 단위\n",
    "\t•\t프로세스\n",
    "\t•\t독립적으로 실행되며, 하나의 프로세스가 비정상 종료되더라도 다른 프로세스에 영향을 미치지 않음.\n",
    "\t•\t스레드\n",
    "\t•\t같은 프로세스 내 스레드는 서로 영향을 미침. 하나의 스레드가 비정상 종료되면 전체 프로세스가 종료될 수 있음.      \n",
    "5. 통신 방식\n",
    "\t•\t프로세스\n",
    "\t•\tIPC(파이프, 소켓, 메시지 큐, 공유 메모리 등)를 사용하여 통신.\n",
    "\t•\t스레드\n",
    "\t•\t동일한 메모리를 공유하므로 별도의 통신 방식 없이 데이터 교환이 가능. \n",
    "6. 사용 사례\n",
    "\t•\t프로세스\n",
    "\t•\t독립적인 작업이 필요한 경우.\n",
    "\t•\t예: 웹 브라우저의 여러 탭, 독립적으로 실행되는 프로그램들.\n",
    "\t•\t스레드\n",
    "\t•\t병렬 작업이나 동시에 실행할 작업이 많은 경우.\n",
    "\t•\t예: 웹 서버에서 클라이언트 요청 처리, GUI 프로그램에서 이벤트 핸들링.       "
   ]
  },
  {
   "cell_type": "markdown",
   "metadata": {},
   "source": [
    "---"
   ]
  },
  {
   "cell_type": "markdown",
   "metadata": {},
   "source": [
    "<span style=\"font-size:80%\">[문제5]<br><br></span>\n",
    "```Python 2버전대와 3버전대의 차이를 성명해주세요```"
   ]
  },
  {
   "cell_type": "markdown",
   "metadata": {},
   "source": [
    "<span style=\"color:red\">답변</span>"
   ]
  },
  {
   "cell_type": "markdown",
   "metadata": {},
   "source": [
    "1. 2버전대는 지원이 종료되었고 기존 코드와 호환성이 좋습니다. 반면, 3버전대는 현재 지원 및 지속적인 업데이트 중이며, 2버전대와 호환성이 낮습니다. \n",
    "2. 2버전대는 문법이 아닌 명령어로 동작하며, 괄호가 없어도 되지만 3버전대는 함수로 동작하며, 반드시 괄호를 사용해야 합니다.\n",
    "3. 2버전대는 문자열은 ASCII로 인코딩 됩니다. 3버전대는 UTF-8로 인코딩된 유니코드 문자열입니다.\n",
    "4. 2버전대는 정수 나눗셈 결과는 정수였지만, 3버전대는 정수 나눗셈의 결과는 실수입니다.\n",
    "5. 2세대는 range: 리스트를 생성, xrange: 제너레이터처럼 동작합니다(더 효율적).\n",
    "   3세대는 range가 Python 2의 xrange처럼 동작하며, 효율적입니다.\n",
    "6. 2버전대는 오류를 쉼표를 사용하여 처리하지만 3버전대는 as 키워드를 사용합니다.\n",
    "7. 입력함수\n",
    "   2버전대: input()은 입력값을 실행 가능한 코드로 평가하고, 일반적인 문자열 입력은 raw_input()을 사용합니다.\n",
    "   3버전대: input()은 항상 문자열을 반환합니다.\n",
    "8. 많은 모듈과 라이브러리가 Python 3 전용으로 개발됐습니다. 예를 들어, 최신 AI, 데이터  분석, 웹 개발 라이브러리는 대부분 Python 3에서만 지원합니다.  \n",
    "9.  Python 3는 더 안전하고 직관적인 코딩 환경을 제공하며, 현대적인 기능들을 포함하고 있습니다. Python 2는 과거의 코드와 호환성을 유지하기 위한 선택이었으나, 이제는 Python 3를 사용하는 것이 권장됩니다."
   ]
  },
  {
   "cell_type": "markdown",
   "metadata": {},
   "source": [
    "---"
   ]
  },
  {
   "cell_type": "markdown",
   "metadata": {},
   "source": [
    "<span style=\"font-size:80%\">[문제6]<br><br></span>\n",
    "```Python에서 메모리 관리는 어떻게 이루어지는지 설명해주세요```"
   ]
  },
  {
   "cell_type": "markdown",
   "metadata": {},
   "source": [
    "<span style=\"color:red\">답변</span>"
   ]
  },
  {
   "cell_type": "markdown",
   "metadata": {},
   "source": [
    "자동 메모리 관리를 통해 이루어집니다. 이 관리체계는 사용자가 직접 메모리를 할당하거나 해제하지 않아도되도록 설계되어 있으며, 레퍼런스 카운팅과 가비지 컬렉션을 기반으로 동작합니다."
   ]
  }
 ],
 "metadata": {
  "language_info": {
   "name": "python"
  }
 },
 "nbformat": 4,
 "nbformat_minor": 2
}
