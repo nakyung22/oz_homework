{
 "cells": [
  {
   "cell_type": "markdown",
   "metadata": {
    "id": "WXEwMsfUct7U"
   },
   "source": [
    "컴퓨터 기초 지식을 의미하는 CS(Computer science)는<br>\n",
    "코딩 테스트와 함께 기술 면접에서 지원자에게 필수적으로 요구합니다.<br>\n",
    "\n",
    "수업 내용 중 기술 면접에 자주 나오는 질문 3가지와 기본적으로 알아야 할 내용 과제로 선정했습니다.<br>\n",
    "\n",
    "관련 내용에 대해서는 구글링 또는 관련 서적을 통해 상세히 공부하시고<br>\n",
    "답변은 최대한 핵심만 담아 간결하게 작성해주세요<br>\n",
    "\n",
    "기술 블로그를 운영 중이신 경우<br>\n",
    "답변 내용을 기술 블로그에 작성하신 후 링크를 답변에 남겨주셔도 됩니다.<br>"
   ]
  },
  {
   "cell_type": "markdown",
   "metadata": {
    "id": "qoyC9wF-3hvs"
   },
   "source": [
    "-----"
   ]
  },
  {
   "cell_type": "markdown",
   "metadata": {
    "id": "rAD_O3Gmc_43"
   },
   "source": [
    "[문제1]\n",
    "\n",
    "파이썬 2.7 버전과 파이썬 3에서 range 차이를 설명해주세요"
   ]
  },
  {
   "cell_type": "markdown",
   "metadata": {},
   "source": [
    "메모리 사용 방식과 반환 타입이 다릅니다.\n",
    "2.7 버전은 리스트를 반환하고 큰 범위를 사용할 경우에 메모리가 많이 사용됩니다. xrange()라는 함수가 존재하며ㅣ, 이 함수는 3의 range()처럼 동작합니다.\n",
    "3 버전은 시퀀스 객체를 반환합니다. 필요한 값만 생성하므로 메모리를 효율적으로 사용합니다. xrange는 3버전에서 제거되었으며, range()가 그 역할을 대신합니다."
   ]
  },
  {
   "cell_type": "markdown",
   "metadata": {},
   "source": []
  },
  {
   "cell_type": "markdown",
   "metadata": {},
   "source": [
    "---"
   ]
  },
  {
   "cell_type": "markdown",
   "metadata": {
    "id": "3uK_auXYdgk2"
   },
   "source": [
    "[문제2]\n",
    "\n",
    "Python의 얕은 복사와 깊은 복사에 대해서 설명하세요"
   ]
  },
  {
   "cell_type": "markdown",
   "metadata": {},
   "source": [
    "얕은 복사: 객체의 최상위 레벨만 복사되고 중첩된 객체는 원본과 동일한 참조를 공유합니다.\n",
    " - 최상위 객체를 변경하면 복사본에 영향을 미치지 않습니다.\n",
    " - 중첩된 객체를 변경하면 복사본과 원본 모두에 영향을 미칩니다.\n",
    "\n",
    "객체와 중첩된 객체까지 모두 복사하여 원본과 완전히 독립된 복사본을 만듭니다.\n",
    " - 원본과 복사본이 전혀 영향을 미치지 않습니다.\n",
    " - 원본이나 복사본에서 중첩된 객체를 변경해도 다른 쪽에 영향을 주지 않습니다."
   ]
  }
 ],
 "metadata": {
  "colab": {
   "authorship_tag": "ABX9TyP7YKA5FdtGggYfD74V7SMJ",
   "provenance": []
  },
  "kernelspec": {
   "display_name": "Python 3",
   "name": "python3"
  },
  "language_info": {
   "name": "python"
  }
 },
 "nbformat": 4,
 "nbformat_minor": 0
}
